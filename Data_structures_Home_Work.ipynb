{
 "cells": [
  {
   "cell_type": "markdown",
   "metadata": {},
   "source": [
    "# Exercise 1\n",
    "    \n",
    "1.\tCreate two lists of strings:\n",
    "    * _boys_ with 3 names of boys\n",
    "    * _girls_ with 3 names of girls.\n",
    "2.\tDo the following with list methods:\n",
    "    * Use _append()_ to add _boys_ a 4th name at the end.\n",
    "    * Use _insert()_ to add _girls_ a 4th name at the beginning.\n",
    "    * Use _pop()_ to remove from _girls_ the last name and assign it to a variable called _bride_.\n",
    "    * Use _pop()_ to remove from _boys_ the first name and assign it to a variable called _groom_.\n",
    "    * Use _remove()_ to remove the last name from boys.\n",
    "        * Can you do it without knowing the actual name of the last boy.\n",
    "    * Create a **new** list called _names_, which is the concatenation of _boys_ and _girls_.\n",
    "        * Why will _extend()_ not do the job?"
   ]
  },
  {
   "cell_type": "code",
   "execution_count": 28,
   "metadata": {
    "scrolled": true
   },
   "outputs": [
    {
     "name": "stdout",
     "output_type": "stream",
     "text": [
      "None\n",
      "['Sharon', 'Alon', 'Elad', 'Ron']\n",
      "None\n",
      "['Katty', 'Anna', 'Reut', 'Hagar']\n",
      "Hagar\n",
      "Sharon\n",
      "None\n",
      "['Alon', 'Ron']\n",
      "['Alon', 'Ron', 'Katty', 'Anna', 'Reut']\n"
     ]
    }
   ],
   "source": [
    "BOY_NAMES = ['Sharon','Alon','Elad']\n",
    "GIRL_NAMES = ['Anna','Reut','Hagar']\n",
    "\n",
    "print(BOY_NAMES.append('Ron'))\n",
    "print(BOY_NAMES)\n",
    "print(GIRL_NAMES.insert(0,'Katty'))\n",
    "print(GIRL_NAMES)\n",
    "\n",
    "bride = GIRL_NAMES.pop(-1)\n",
    "print(bride)\n",
    "groom  = BOY_NAMES.pop(0)\n",
    "print(groom)\n",
    "\n",
    "print(BOY_NAMES.remove(BOY_NAMES[1]))\n",
    "print(BOY_NAMES)\n",
    "\n",
    "names = BOY_NAMES + GIRL_NAMES\n",
    "print(names)"
   ]
  },
  {
   "cell_type": "markdown",
   "metadata": {},
   "source": [
    "# Exercise 2\n",
    "1. Create three variables of type list representing three guys. Each list should be of the form [name (string), age (int), married (Boolean)]. Give the lists proper variable names.\n",
    "2. Modify the age of one of the guys. Note that lists are mutable, so you can do that using direct assignment and there is no need to recreate the entire list.\n",
    "3. Create a **new** list called _guys_, whose elements are the three lists you’ve created. Note that you've created a list of lists.\n",
    "4. Create a list for another \"guy\" and append it to _guys_.\n",
    "5. Modify the age of one of the guys in _guys_. Again - remember that _guys_ is mutable, so you can \"access\" its elements and modify them directly.\n",
    "6. Remove one of the elements of _guys_ with two different methods:\n",
    "    * using pop()\n",
    "    * using remove()"
   ]
  },
  {
   "cell_type": "code",
   "execution_count": 60,
   "metadata": {},
   "outputs": [
    {
     "name": "stdout",
     "output_type": "stream",
     "text": [
      "['Sharon', 28, False]\n",
      "['Aimit', 32, True]\n",
      "['Noam', 25, False]\n",
      "28\n",
      "['Sharon', 29, False]\n",
      "[['Sharon', 29, False], ['Aimit', 32, True], ['Noam', 25, False]]\n",
      "[['Sharon', 29, False], ['Aimit', 32, True], ['Noam', 25, False], ['Ran', 22, False]]\n",
      "[['Sharon', 30, False], ['Aimit', 32, True], ['Noam', 25, False], ['Ran', 22, False]]\n",
      "['Noam', 25, False]\n",
      "[['Sharon', 30, False], ['Aimit', 32, True], ['Ran', 22, False]]\n",
      "[['Sharon', 30, False], ['Aimit', 32, True]]\n"
     ]
    }
   ],
   "source": [
    "GUY_ONE = ['Sharon',28, False]\n",
    "print(GUY_ONE)\n",
    "GUY_TWO = ['Aimit',32, True]\n",
    "print(GUY_TWO)\n",
    "GUY_THREE = ['Noam', 25, False]\n",
    "print(GUY_THREE)\n",
    "\n",
    "print(GUY_ONE[1])\n",
    "GUY_ONE[1] = 29\n",
    "print(GUY_ONE)\n",
    "\n",
    "guys = [GUY_ONE] + [GUY_TWO] + [GUY_THREE]\n",
    "print(guys)\n",
    "\n",
    "GUY_FOUR = ['Ran', 22, False]\n",
    "\n",
    "guys.append(GUY_FOUR)\n",
    "print(guys)\n",
    "\n",
    "guys[0][1] = guys[0][1]+1\n",
    "print(guys)\n",
    "\n",
    "print(guys.pop(2))\n",
    "print(guys)\n",
    "\n",
    "guys.remove(guys[2])\n",
    "print(guys)"
   ]
  },
  {
   "cell_type": "markdown",
   "metadata": {},
   "source": [
    "# Exercise 3\n",
    "1. Write a sentence (string) and assign it to a variable called _sentence_. \n",
    "2. Print your sentence, so that every word is printed in a new line.\n",
    "3. Count how many times the letter ‘m’ appears in _sentence_ in two differnt ways:\n",
    "    * by using the string method count().\n",
    "    * without using the string method count()."
   ]
  },
  {
   "cell_type": "code",
   "execution_count": 46,
   "metadata": {
    "scrolled": true
   },
   "outputs": [
    {
     "name": "stdout",
     "output_type": "stream",
     "text": [
      "I'am doing my home work\n",
      "I'am\n",
      "doing\n",
      "my\n",
      "home\n",
      "work\n",
      "3\n",
      "3\n"
     ]
    }
   ],
   "source": [
    "sentence = 'I\\'am doing my home work'\n",
    "print(sentence)\n",
    "print('\\n'.join(sentence.split()))\n",
    "\n",
    "COUNT_LETTER = sentence.count('m')\n",
    "print(COUNT_LETTER)\n",
    "\n",
    "COUNT_LETTER_2 = sentence.split('m')\n",
    "print(len(COUNT_LETTER_2)-1)\n"
   ]
  },
  {
   "cell_type": "code",
   "execution_count": null,
   "metadata": {
    "collapsed": true
   },
   "outputs": [],
   "source": [
    "\n"
   ]
  },
  {
   "cell_type": "code",
   "execution_count": null,
   "metadata": {
    "collapsed": true
   },
   "outputs": [],
   "source": []
  },
  {
   "cell_type": "code",
   "execution_count": null,
   "metadata": {
    "collapsed": true
   },
   "outputs": [],
   "source": []
  }
 ],
 "metadata": {
  "kernelspec": {
   "display_name": "Python 3",
   "language": "python",
   "name": "python3"
  },
  "language_info": {
   "codemirror_mode": {
    "name": "ipython",
    "version": 3
   },
   "file_extension": ".py",
   "mimetype": "text/x-python",
   "name": "python",
   "nbconvert_exporter": "python",
   "pygments_lexer": "ipython3",
   "version": "3.6.3"
  }
 },
 "nbformat": 4,
 "nbformat_minor": 2
}

{
 "cells": [
  {
   "cell_type": "code",
   "execution_count": 1,
   "metadata": {},
   "outputs": [
    {
     "name": "stdout",
     "output_type": "stream",
     "text": [
      "I have chosen a number between 1 and 100.\n",
      "Please try to guess it...\n",
      "60\n",
      "Wrong!  You are too high plese try again...\n",
      "40\n",
      "Wrong!  You are too high plese try again...\n",
      "30\n",
      "Wrong!  You are too high plese try again...\n",
      "20\n",
      "Wrong!  You are too high plese try again...\n",
      "5\n",
      "Wrong!  You are too low plese try again...\n",
      "15\n",
      "Wrong!  You are too high plese try again...\n",
      "10\n",
      "Wrong!  You are too low plese try again...\n",
      "13\n",
      "Finally :-)\n",
      "GAME OVER\n"
     ]
    }
   ],
   "source": [
    "# import necessary module\n",
    "import random\n",
    "# The computer \"chooses\" a number\n",
    "my_number = random.randint(1, 100)\n",
    "# The program asks you to play\n",
    "print('''I have chosen a number between 1 and 100.\n",
    "Please try to guess it...''')\n",
    "# The program reads your guess and stores it\n",
    "user_guess = int(input())\n",
    "\n",
    "FIRST_PART_OF_THE_SENTENCE = 'You are too '\n",
    "SECOND_PART_OF_THE_SENTENCE = ' plese try again...'\n",
    "\n",
    "# The game is on...\n",
    "while my_number != user_guess:\n",
    "    print(\"Wrong! \", end=' ')\n",
    "    if user_guess > my_number:\n",
    "        print(FIRST_PART_OF_THE_SENTENCE + 'high' + SECOND_PART_OF_THE_SENTENCE)\n",
    "    else:\n",
    "        print(FIRST_PART_OF_THE_SENTENCE + 'low' + SECOND_PART_OF_THE_SENTENCE)\n",
    "    user_guess = int(input())\n",
    "\n",
    "print(\"Finally :-)\\nGAME OVER\")"
   ]
  },
  {
   "cell_type": "code",
   "execution_count": null,
   "metadata": {
    "collapsed": true
   },
   "outputs": [],
   "source": []
  }
 ],
 "metadata": {
  "kernelspec": {
   "display_name": "Python 3",
   "language": "python",
   "name": "python3"
  },
  "language_info": {
   "codemirror_mode": {
    "name": "ipython",
    "version": 3
   },
   "file_extension": ".py",
   "mimetype": "text/x-python",
   "name": "python",
   "nbconvert_exporter": "python",
   "pygments_lexer": "ipython3",
   "version": "3.6.3"
  }
 },
 "nbformat": 4,
 "nbformat_minor": 2
}

{
 "cells": [
  {
   "cell_type": "markdown",
   "metadata": {},
   "source": [
    "# Dictionary"
   ]
  },
  {
   "cell_type": "markdown",
   "metadata": {},
   "source": [
    "## Exercise 1\n",
    "1. Create a dictionary with 3 items of the following form:\n",
    "    * key – a letter\n",
    "    * value – a list of words starting with the key letter\n",
    "2. Use the mutability of the dictionary to add a new word to each of the dictionary items without recreating its values.\n",
    "3. Add a new item to the dictionary.\n",
    "4. Remove an item from the dictionary.\n",
    "5. Create a list, whose elements are the lists of words from the dictionary."
   ]
  },
  {
   "cell_type": "code",
   "execution_count": 19,
   "metadata": {},
   "outputs": [
    {
     "name": "stdout",
     "output_type": "stream",
     "text": [
      "{'c': ['computer', 'cow'], 'p': ['python'], 'd': ['data']}\n",
      "{'c': ['computer', 'cow'], 'p': ['python'], 'd': ['data'], 'g': ['gene']}\n",
      "{'c': ['computer', 'cow'], 'd': ['data'], 'g': ['gene']}\n",
      "dict_values([['computer', 'cow'], ['data'], ['gene']])\n"
     ]
    }
   ],
   "source": [
    "LETTERS_WORDS = {\"c\":[\"computer\"],\"p\":[\"python\"],\"d\":[\"data\"]}\n",
    "LETTERS_WORDS[\"c\"].append('cow')\n",
    "print(LETTERS_WORDS)\n",
    "LETTERS_WORDS['g'] = [\"gene\"]\n",
    "print(LETTERS_WORDS)\n",
    "LETTERS_WORDS.pop('p') \n",
    "print(LETTERS_WORDS)\n",
    "list_dictionary = LETTERS_WORDS.values()\n",
    "print(list_dictionary)"
   ]
  },
  {
   "cell_type": "markdown",
   "metadata": {},
   "source": [
    "## Excercise 2\n",
    "\n",
    "In this exercise we will construct a complex dictionary step-by-step. Before you start, choose two continents, and from each continent choose two countries.\n",
    "\n",
    "1. For each of the four countries create a list of cities from that country.\n",
    "2. For each of the two continents create a dictionary with two items of the following form:\n",
    "    * key – country name\n",
    "    * value – the list of cities from that country\n",
    "3. Create a new dictionary called _world_\\__dict_ with two items of the following form:\n",
    "    * key – continent name\n",
    "    * value – the dictionary of the key continent"
   ]
  },
  {
   "cell_type": "code",
   "execution_count": 23,
   "metadata": {},
   "outputs": [
    {
     "name": "stdout",
     "output_type": "stream",
     "text": [
      "{'Italy': ['Rome', 'Venice'], 'Greece': ['Athens', 'Santorini']}\n",
      "{'Japan': ['Tokyo', 'Osaka'], 'China': ['Beijing', 'Shaanxi']}\n",
      "{'Europe': {'Italy': ['Rome', 'Venice'], 'Greece': ['Athens', 'Santorini']}, 'Asia': {'Japan': ['Tokyo', 'Osaka'], 'China': ['Beijing', 'Shaanxi']}}\n"
     ]
    }
   ],
   "source": [
    "EUROPE = ('Italy','Greece')\n",
    "ASIA = ('Japan','china')\n",
    "\n",
    "ITALY = ['Rome','Venice']\n",
    "GREECE = ['Athens','Santorini']\n",
    "JAPAN = ['Tokyo','Osaka'] \n",
    "CHINA = ['Beijing','Shaanxi']\n",
    "\n",
    "country_city_europe = {'Italy':ITALY,'Greece':GREECE}\n",
    "print(country_city_europe)\n",
    "\n",
    "country_city_asia = {'Japan':JAPAN, 'China': CHINA}\n",
    "print(country_city_asia)\n",
    "\n",
    "world_dict = {'Europe': country_city_europe , 'Asia': country_city_asia}\n",
    "print(world_dict)"
   ]
  },
  {
   "cell_type": "markdown",
   "metadata": {},
   "source": [
    "# Sets\n",
    "## Exercise 1\n",
    "\n",
    "Create two strings and write a code that prints the number of their common letters (excluding duplicates).\n",
    "\n",
    "> For example the result for 'abracadabra' and 'barbarian' is 3 ('a', 'b' & 'r')."
   ]
  },
  {
   "cell_type": "code",
   "execution_count": 34,
   "metadata": {},
   "outputs": [
    {
     "name": "stdout",
     "output_type": "stream",
     "text": [
      "{' ', 'l', 'e', 'a'}\n",
      "{'l', 'e', 'a'}\n",
      "3\n"
     ]
    }
   ],
   "source": [
    "FIRST_STRING = 'Maccabi Tel Aviv'\n",
    "SECOND_STRING = 'Red Star Belgrade'\n",
    "\n",
    "common_letters = (set(FIRST_STRING) & set(SECOND_STRING))\n",
    "print(common_letters)\n",
    "\n",
    "if ' ' in common_letters:\n",
    "    common_letters.remove(' ')\n",
    "    print(common_letters)\n",
    "\n",
    "len_common_letters = len(common_letters)\n",
    "print(len_common_letters)\n"
   ]
  },
  {
   "cell_type": "markdown",
   "metadata": {},
   "source": [
    "## Exercise 2\n",
    "\n",
    "You are given three lists, recording the visitors of the museum on Sunday, Monday and Tuesday. Note that a visitor might appear more than once even on thhe same day. Answer the following questions:\n",
    "\n",
    "1. Create sets for the unique visitors for each day and for the entire three days (4 sets in total).\n",
    "2. Is there a day, that every visitor of that day, had also visited on another day?\n",
    "3. Which visitors visited the museum on more than a single day? Which visitors visited every day??\n",
    "4. Which visitors visited the museum **only** on Tuesday?\n",
    "5. Which visitors visited **exactly** on one of the days Sunday and Monday?\n"
   ]
  },
  {
   "cell_type": "code",
   "execution_count": 1,
   "metadata": {
    "collapsed": true
   },
   "outputs": [],
   "source": [
    "sunday_visitors = ['abe', 'bob', 'carl', 'dave', 'ed',\n",
    "                   'heinrich', 'isabel', 'abe', 'fred']\n",
    "monday_visitors = ['abe', 'gale', 'ed', 'fred']\n",
    "tuesday_visitors = ['ed', 'bob', 'jack', 'fred', 'abe',\n",
    "                    'abe', 'jack', 'kent', 'gale']"
   ]
  },
  {
   "cell_type": "code",
   "execution_count": 16,
   "metadata": {},
   "outputs": [
    {
     "name": "stdout",
     "output_type": "stream",
     "text": [
      "{'ed', 'isabel', 'heinrich', 'carl', 'abe', 'dave', 'fred', 'bob'}\n",
      "{'fred', 'ed', 'gale', 'abe'}\n",
      "{'ed', 'gale', 'abe', 'kent', 'fred', 'bob', 'jack'}\n",
      "{'fred', 'ed', 'abe'}\n",
      "True\n",
      "False\n",
      "False\n",
      "{'fred', 'ed', 'abe'}\n"
     ]
    }
   ],
   "source": [
    "unique_visitor_sunday = set(sunday_visitors)\n",
    "print(unique_visitor_sunday)\n",
    "\n",
    "\n",
    "unique_visitor_monday = set(monday_visitors)\n",
    "print(unique_visitor_monday)\n",
    "\n",
    "\n",
    "\n",
    "unique_visitor_tuesday = set(tuesday_visitors)\n",
    "print(unique_visitor_tuesday)\n",
    "\n",
    "\n",
    "unique_visitor_total = unique_visitor_sunday & unique_visitor_monday & unique_visitor_tuesday\n",
    "print(unique_visitor_total)\n",
    "\n",
    "print(sunday_visitors < monday_visitors and sunday_visitors < tuesday_visitors)\n",
    "print(monday_visitors < sunday_visitors and monday_visitors < tuesday_visitors)\n",
    "print(tuesday_visitors < sunday_visitors and tuesday_visitors < monday_visitors)\n",
    "\n",
    "print(set(sunday_visitors) & set(monday_visitors) & set(tuesday_visitors))\n",
    "\n",
    "\n",
    "\n"
   ]
  },
  {
   "cell_type": "code",
   "execution_count": 17,
   "metadata": {},
   "outputs": [
    {
     "data": {
      "text/plain": [
       "True"
      ]
     },
     "execution_count": 17,
     "metadata": {},
     "output_type": "execute_result"
    }
   ],
   "source": [
    "sunday_visitors < monday_visitors"
   ]
  },
  {
   "cell_type": "code",
   "execution_count": 19,
   "metadata": {},
   "outputs": [
    {
     "name": "stdout",
     "output_type": "stream",
     "text": [
      "{1, 2, 3, 4, 5}\n",
      "{1, 2, 3, 4, 5}\n"
     ]
    }
   ],
   "source": [
    "list = [1,2,3]\n",
    "list2 = [1,4,5]\n",
    "set1 = set(list) | set(list2)\n",
    "print(set1)\n",
    "listset2 = list +list2\n",
    "set2 = set(listset2)\n",
    "print(set2)"
   ]
  },
  {
   "cell_type": "code",
   "execution_count": null,
   "metadata": {
    "collapsed": true
   },
   "outputs": [],
   "source": []
  }
 ],
 "metadata": {
  "kernelspec": {
   "display_name": "Python 3",
   "language": "python",
   "name": "python3"
  },
  "language_info": {
   "codemirror_mode": {
    "name": "ipython",
    "version": 3
   },
   "file_extension": ".py",
   "mimetype": "text/x-python",
   "name": "python",
   "nbconvert_exporter": "python",
   "pygments_lexer": "ipython3",
   "version": "3.6.3"
  }
 },
 "nbformat": 4,
 "nbformat_minor": 2
}

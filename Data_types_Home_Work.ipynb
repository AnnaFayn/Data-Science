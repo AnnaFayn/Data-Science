{
 "cells": [
  {
   "cell_type": "markdown",
   "metadata": {},
   "source": [
    "# Exercise 1\n",
    "1. Assign your height in meters to a variable called _height_ and your weight in kilograms to a variable called _weight_.\n",
    "2. Calculate your BMI and assign the value to a variable called BMI. ($BMI=\\frac{w}{h^2}$)\n",
    "3. Print the sentence \"My height is \\_\\_\\_ meters, my weight is \\_\\_\\_ Kgs, and my BMI is \\_\\_\\_.”.\n",
    "4. Print the sentence, so that each part of it will be in a new line."
   ]
  },
  {
   "cell_type": "code",
   "execution_count": 2,
   "metadata": {
    "scrolled": true
   },
   "outputs": [
    {
     "name": "stdout",
     "output_type": "stream",
     "text": [
      "My height is 1 meters, my weight is 65 Kgs and my BMI is 24 \n",
      "My height is 1 meters\n",
      "my weight is 65 Kgs\n",
      "my BMI is 24 \n"
     ]
    }
   ],
   "source": [
    "height_in_meters  = 1.62\n",
    "weight_in_kg = 65\n",
    "bmi = weight_in_kg/height_in_meters**2\n",
    "print('My height is %d meters, my weight is %d Kgs and my BMI is %d ' %(height_in_meters,weight_in_kg,bmi))\n",
    "print('''My height is %d meters\n",
    "my weight is %d Kgs\n",
    "my BMI is %d ''' %(height_in_meters,weight_in_kg,bmi))"
   ]
  },
  {
   "cell_type": "markdown",
   "metadata": {},
   "source": [
    "# Exercise 2\n",
    "1. Assign your first name and your last name to the variables _first_\\__name_ and _last_\\__name_, respectively.\n",
    "2. How many letters does your full name have?\n",
    "3. Create your full name by concatenating _first_\\__name_ and _first_\\__name_ with a space in the middle, and assign the result to a variable called _full_\\__name_.\n",
    "4. Use the string method _replace()_ to change all the vowels in your full name from lower case to upper case. (Vowels are the letters 'a', 'e', 'i', 'o' & 'u')\n",
    "\n",
    "    * Note that you are not allowed to use the _for_ syntax at the moment."
   ]
  },
  {
   "cell_type": "code",
   "execution_count": 92,
   "metadata": {},
   "outputs": [
    {
     "name": "stdout",
     "output_type": "stream",
     "text": [
      "13\n",
      "Anna Faynveitz\n",
      "AnnA FAynveitz\n",
      "AnnA FAynvEitz\n",
      "AnnA FAynvEItz\n",
      "AnnA FAynvEItz\n",
      "AnnA FAynvEItz\n",
      "AnnA FAynvEItz\n"
     ]
    }
   ],
   "source": [
    "# first_name = 'Anna'\n",
    "last_name = 'Faynveitz'\n",
    "\n",
    "print(len(first_name+last_name))\n",
    "\n",
    "full_name = first_name + ' ' + last_name\n",
    "print(full_name)\n",
    "\n",
    "\n",
    "#Not DRY but without for\n",
    "#full_name = full_name.replace('a','A')\n",
    "#full_name = full_name.replace('e','E')\n",
    "#full_name = full_name.replace('i','I')\n",
    "#full_name = full_name.replace('o','O')\n",
    "#full_name = full_name.replace('u','U')\n",
    "\n",
    "#print(full_name)\n",
    "\n",
    "#DRY with for\n",
    "\n",
    "vowels = ['a', 'e', 'i', 'o' , 'u']\n",
    "for vowel in vowels:\n",
    "    full_name_upper_letters = full_name.replace(vowel,vowel.upper()) \n",
    "print( full_name_      upper_letters)\n",
    "    \n",
    "   \n"
   ]
  },
  {
   "cell_type": "markdown",
   "metadata": {
    "collapsed": true
   },
   "source": [
    "# EXCERSICE 3\n",
    "Define proper variables with the following data for yourself and for one of your imaginary friends: gender (string), age (int), city (string) and marital status (Boolean). Then create the following Boolean variables:\n",
    "\n",
    "1. _same_\\__city_ – do both of you live in the same city?\n",
    "2. _is_\\__older_ – is your friend older than you?\n",
    "3. _diff_\\__gender_ – are you from different genders?\n",
    "4. _both_\\__married_ – are you both married?\n"
   ]
  },
  {
   "cell_type": "code",
   "execution_count": 113,
   "metadata": {},
   "outputs": [
    {
     "name": "stdout",
     "output_type": "stream",
     "text": [
      "True\n",
      "True\n",
      "True\n",
      "False\n"
     ]
    }
   ],
   "source": [
    "MY_GENDER = 'female'\n",
    "MY_AGE = 26\n",
    "MY_CITY = 'Qiryat Ono'\n",
    "MY_MARITAL_STATUS = 'single'\n",
    "\n",
    "FRIEND_GENDER = 'Men'\n",
    "FRIEND_AGE = 28\n",
    "FRIEND_CITY = 'Qiryat Ono'\n",
    "FRIEND_MARITAL_STATUS ='single'\n",
    "\n",
    "same_city = print(MY_CITY == FRIEND_CITY)\n",
    "is_older = print(FRIEND_AGE >= MY_AGE)\n",
    "diff_gender = print(MY_GENDER != FRIEND_GENDER)\n",
    "both_married  = print((MY_MARITAL_STATUS == 'married') & (FRIEND_MARITAL_STATUS == 'married'))"
   ]
  },
  {
   "cell_type": "code",
   "execution_count": null,
   "metadata": {
    "collapsed": true
   },
   "outputs": [],
   "source": []
  }
 ],
 "metadata": {
  "kernelspec": {
   "display_name": "Python 3",
   "language": "python",
   "name": "python3"
  },
  "language_info": {
   "codemirror_mode": {
    "name": "ipython",
    "version": 3
   },
   "file_extension": ".py",
   "mimetype": "text/x-python",
   "name": "python",
   "nbconvert_exporter": "python",
   "pygments_lexer": "ipython3",
   "version": "3.6.3"
  }
 },
 "nbformat": 4,
 "nbformat_minor": 2
}
